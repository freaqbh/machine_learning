{
 "cells": [
  {
   "cell_type": "markdown",
   "metadata": {},
   "source": [
    "1. data missing dan data duplicate\n",
    "2. data skewness\n",
    "3. data imbalanced di isFraud\n",
    "4. log transform\n",
    "5. label encoding\n",
    "6. drop kolom gk penting\n",
    "7. train model (dengan stratified split)\n",
    "8. evaluasi model\n",
    "\n",
    "dataset : https://www.kaggle.com/datasets/amanalisiddiqui/fraud-detection-dataset/code"
   ]
  },
  {
   "cell_type": "code",
   "execution_count": 1,
   "metadata": {},
   "outputs": [
    {
     "name": "stdout",
     "output_type": "stream",
     "text": [
      "+----+--------+---------+-----------+-------------+--------------+-----------+--------------+--------------+-------+--------------+\n",
      "|step|    type|   amount|   nameOrig|oldbalanceOrg|newbalanceOrig|   nameDest|oldbalanceDest|newbalanceDest|isFraud|isFlaggedFraud|\n",
      "+----+--------+---------+-----------+-------------+--------------+-----------+--------------+--------------+-------+--------------+\n",
      "|   1| PAYMENT|  9839.64|C1231006815|     170136.0|     160296.36|M1979787155|           0.0|           0.0|      0|             0|\n",
      "|   1| PAYMENT|  1864.28|C1666544295|      21249.0|      19384.72|M2044282225|           0.0|           0.0|      0|             0|\n",
      "|   1|TRANSFER|    181.0|C1305486145|        181.0|           0.0| C553264065|           0.0|           0.0|      1|             0|\n",
      "|   1|CASH_OUT|    181.0| C840083671|        181.0|           0.0|  C38997010|       21182.0|           0.0|      1|             0|\n",
      "|   1| PAYMENT| 11668.14|C2048537720|      41554.0|      29885.86|M1230701703|           0.0|           0.0|      0|             0|\n",
      "|   1| PAYMENT|  7817.71|  C90045638|      53860.0|      46042.29| M573487274|           0.0|           0.0|      0|             0|\n",
      "|   1| PAYMENT|  7107.77| C154988899|     183195.0|     176087.23| M408069119|           0.0|           0.0|      0|             0|\n",
      "|   1| PAYMENT|  7861.64|C1912850431|    176087.23|     168225.59| M633326333|           0.0|           0.0|      0|             0|\n",
      "|   1| PAYMENT|  4024.36|C1265012928|       2671.0|           0.0|M1176932104|           0.0|           0.0|      0|             0|\n",
      "|   1|   DEBIT|  5337.77| C712410124|      41720.0|      36382.23| C195600860|       41898.0|      40348.79|      0|             0|\n",
      "|   1|   DEBIT|  9644.94|C1900366749|       4465.0|           0.0| C997608398|       10845.0|     157982.12|      0|             0|\n",
      "|   1| PAYMENT|  3099.97| C249177573|      20771.0|      17671.03|M2096539129|           0.0|           0.0|      0|             0|\n",
      "|   1| PAYMENT|  2560.74|C1648232591|       5070.0|       2509.26| M972865270|           0.0|           0.0|      0|             0|\n",
      "|   1| PAYMENT| 11633.76|C1716932897|      10127.0|           0.0| M801569151|           0.0|           0.0|      0|             0|\n",
      "|   1| PAYMENT|  4098.78|C1026483832|     503264.0|     499165.22|M1635378213|           0.0|           0.0|      0|             0|\n",
      "|   1|CASH_OUT|229133.94| C905080434|      15325.0|           0.0| C476402209|        5083.0|      51513.44|      0|             0|\n",
      "|   1| PAYMENT|  1563.82| C761750706|        450.0|           0.0|M1731217984|           0.0|           0.0|      0|             0|\n",
      "|   1| PAYMENT|  1157.86|C1237762639|      21156.0|      19998.14|M1877062907|           0.0|           0.0|      0|             0|\n",
      "|   1| PAYMENT|   671.64|C2033524545|      15123.0|      14451.36| M473053293|           0.0|           0.0|      0|             0|\n",
      "|   1|TRANSFER| 215310.3|C1670993182|        705.0|           0.0|C1100439041|       22425.0|           0.0|      0|             0|\n",
      "+----+--------+---------+-----------+-------------+--------------+-----------+--------------+--------------+-------+--------------+\n",
      "only showing top 20 rows\n",
      "\n",
      "root\n",
      " |-- step: integer (nullable = true)\n",
      " |-- type: string (nullable = true)\n",
      " |-- amount: double (nullable = true)\n",
      " |-- nameOrig: string (nullable = true)\n",
      " |-- oldbalanceOrg: double (nullable = true)\n",
      " |-- newbalanceOrig: double (nullable = true)\n",
      " |-- nameDest: string (nullable = true)\n",
      " |-- oldbalanceDest: double (nullable = true)\n",
      " |-- newbalanceDest: double (nullable = true)\n",
      " |-- isFraud: integer (nullable = true)\n",
      " |-- isFlaggedFraud: integer (nullable = true)\n",
      "\n"
     ]
    }
   ],
   "source": [
    "from pyspark.sql import SparkSession\n",
    "\n",
    "spark = SparkSession.builder \\\n",
    "    .appName(\"fraud detection\") \\\n",
    "    .master(\"local[*]\") \\\n",
    "    .config(\"spark.driver.memory\", \"4g\") \\\n",
    "    .getOrCreate()\n",
    "\n",
    "df = spark.read.csv(\"C:/Users/Abhinaya/hello world/praktikum-ai-modul-2-2025/fraud_detection_classification/AIML Dataset.csv\", header=True, inferSchema=True)\n",
    "\n",
    "df.show(20)\n",
    "df.printSchema()"
   ]
  },
  {
   "cell_type": "code",
   "execution_count": 2,
   "metadata": {},
   "outputs": [
    {
     "name": "stdout",
     "output_type": "stream",
     "text": [
      "+----+----+------+--------+-------------+--------------+--------+--------------+--------------+-------+--------------+\n",
      "|step|type|amount|nameOrig|oldbalanceOrg|newbalanceOrig|nameDest|oldbalanceDest|newbalanceDest|isFraud|isFlaggedFraud|\n",
      "+----+----+------+--------+-------------+--------------+--------+--------------+--------------+-------+--------------+\n",
      "|   0|   0|     0|       0|            0|             0|       0|             0|             0|      0|             0|\n",
      "+----+----+------+--------+-------------+--------------+--------+--------------+--------------+-------+--------------+\n",
      "\n"
     ]
    }
   ],
   "source": [
    "from pyspark.sql.functions import col, sum\n",
    "\n",
    "df.select([sum(col(c).isNull().cast(\"int\")).alias(c) for c in df.columns]).show()"
   ]
  },
  {
   "cell_type": "code",
   "execution_count": 3,
   "metadata": {},
   "outputs": [
    {
     "name": "stdout",
     "output_type": "stream",
     "text": [
      "Total duplicate rows: 0\n"
     ]
    }
   ],
   "source": [
    "from pyspark.sql.functions import count\n",
    "\n",
    "# Hitung total baris\n",
    "total_rows = df.count()\n",
    "\n",
    "# Hitung baris unik (distinct)\n",
    "distinct_rows = df.distinct().count()\n",
    "\n",
    "# Hitung duplikat\n",
    "duplicate_rows = total_rows - distinct_rows\n",
    "print(f\"Total duplicate rows: {duplicate_rows}\")"
   ]
  },
  {
   "cell_type": "code",
   "execution_count": 4,
   "metadata": {},
   "outputs": [
    {
     "data": {
      "image/png": "[encoded data removed]",
      "text/plain": [
       "<Figure size 500x500 with 1 Axes>"
      ]
     },
     "metadata": {},
     "output_type": "display_data"
    }
   ],
   "source": [
    "import matplotlib.pyplot as plt\n",
    "import seaborn as sns\n",
    "import pandas as pd\n",
    "\n",
    "pandas_df = pd.read_csv('C:/Users/Abhinaya/hello world/praktikum-ai-modul-2-2025/fraud_detection_classification/AIML Dataset.csv')\n",
    "\n",
    "sns.displot(data=pandas_df['isFraud'])\n",
    "plt.title('isfraud count')\n",
    "plt.show()"
   ]
  },
  {
   "cell_type": "code",
   "execution_count": 5,
   "metadata": {},
   "outputs": [
    {
     "name": "stdout",
     "output_type": "stream",
     "text": [
      "+-------+-------+----------+\n",
      "|isFraud|  count|percentage|\n",
      "+-------+-------+----------+\n",
      "|      1|   8213|      0.13|\n",
      "|      0|6354407|     99.87|\n",
      "+-------+-------+----------+\n",
      "\n"
     ]
    }
   ],
   "source": [
    "from pyspark.sql.functions import count, round\n",
    "\n",
    "total_count = df.count()\n",
    "\n",
    "fraud_pct = (\n",
    "    df.groupBy(\"isFraud\")\n",
    "      .count()\n",
    "      .withColumn(\"percentage\", round((col(\"count\") / total_count) * 100, 2))\n",
    ")\n",
    "\n",
    "fraud_pct.show()"
   ]
  },
  {
   "cell_type": "code",
   "execution_count": 6,
   "metadata": {},
   "outputs": [
    {
     "data": {
      "image/png": "[encoded data removed]",
      "text/plain": [
       "<Figure size 1500x800 with 6 Axes>"
      ]
     },
     "metadata": {},
     "output_type": "display_data"
    }
   ],
   "source": [
    "pdf_iqr = pandas_df.drop(['nameOrig', 'type', 'nameDest', 'isFraud', 'isFlaggedFraud'], axis=1)\n",
    "\n",
    "import math\n",
    "import matplotlib.pyplot as plt\n",
    "\n",
    "cols = pdf_iqr.columns\n",
    "n = len(cols)\n",
    "ncols = 3\n",
    "nrows = math.ceil(n / ncols)\n",
    "\n",
    "fig, axes = plt.subplots(nrows=nrows, ncols=ncols,\n",
    "                         figsize=(5 * ncols, 4 * nrows))\n",
    "\n",
    "axes = axes.flatten()\n",
    "\n",
    "for ax, col in zip(axes, cols):\n",
    "    ax.boxplot(pdf_iqr[col].dropna())\n",
    "    ax.set_title(col)\n",
    "    ax.set_ylabel('Value')\n",
    "\n",
    "for ax in axes[n:]:\n",
    "    ax.axis('off')\n",
    "\n",
    "fig.tight_layout()\n",
    "plt.show()"
   ]
  },
  {
   "cell_type": "code",
   "execution_count": 7,
   "metadata": {},
   "outputs": [
    {
     "data": {
      "image/png": "[encoded data removed]",
      "text/plain": [
       "<Figure size 1500x800 with 6 Axes>"
      ]
     },
     "metadata": {},
     "output_type": "display_data"
    }
   ],
   "source": [
    "import numpy as np\n",
    "\n",
    "#  log1p (log(1+x)) so zeros don’t break\n",
    "pdf_log = pdf_iqr.apply(np.log1p)\n",
    "\n",
    "cols = pdf_log.columns\n",
    "n = len(cols)\n",
    "ncols = 3\n",
    "nrows = math.ceil(n / ncols)\n",
    "\n",
    "fig, axes = plt.subplots(nrows=nrows, ncols=ncols,\n",
    "                         figsize=(5 * ncols, 4 * nrows))\n",
    "\n",
    "axes = axes.flatten()\n",
    "\n",
    "for ax, col in zip(axes, cols):\n",
    "    ax.boxplot(pdf_log[col].dropna())\n",
    "    ax.set_title(col)\n",
    "    ax.set_ylabel('Value')\n",
    "\n",
    "# turn off any unused subplots\n",
    "for ax in axes[n:]:\n",
    "    ax.axis('off')\n",
    "\n",
    "fig.tight_layout()\n",
    "plt.show()"
   ]
  },
  {
   "cell_type": "code",
   "execution_count": 8,
   "metadata": {},
   "outputs": [],
   "source": [
    "from pyspark.sql.functions import log1p, col\n",
    "\n",
    "num_col = [\"step\", \"amount\", \"oldbalanceOrg\", \"newbalanceOrig\", \"oldbalanceDest\", \"newbalanceDest\"]\n",
    "\n",
    "for col_name in num_col:\n",
    "    df = df.withColumn(col_name, log1p(col(col_name)))"
   ]
  },
  {
   "cell_type": "code",
   "execution_count": 9,
   "metadata": {},
   "outputs": [
    {
     "name": "stdout",
     "output_type": "stream",
     "text": [
      "+------------------+--------+------------------+-----------+------------------+------------------+-----------+------------------+------------------+-------+--------------+----------+\n",
      "|              step|    type|            amount|   nameOrig|     oldbalanceOrg|    newbalanceOrig|   nameDest|    oldbalanceDest|    newbalanceDest|isFraud|isFlaggedFraud|type_index|\n",
      "+------------------+--------+------------------+-----------+------------------+------------------+-----------+------------------+------------------+-------+--------------+----------+\n",
      "|0.6931471805599453| PAYMENT| 9.194276028581655|C1231006815| 12.04435927383651|11.984785869341627|M1979787155|               0.0|               0.0|      0|             0|       1.0|\n",
      "|0.6931471805599453| PAYMENT| 7.531166454857185|C1666544295| 9.964112174352563| 9.872291991535475|M2044282225|               0.0|               0.0|      0|             0|       1.0|\n",
      "|0.6931471805599453|TRANSFER| 5.204006687076795|C1305486145| 5.204006687076795|               0.0| C553264065|               0.0|               0.0|      1|             0|       3.0|\n",
      "|0.6931471805599453|CASH_OUT| 5.204006687076795| C840083671| 5.204006687076795|               0.0|  C38997010| 9.960954252184457|               0.0|      1|             0|       0.0|\n",
      "|0.6931471805599453| PAYMENT| 9.364703029334617|C2048537720|10.634773129987126|10.305174197902842|M1230701703|               0.0|               0.0|      0|             0|       1.0|\n",
      "|0.6931471805599453| PAYMENT|  8.96427485829486|  C90045638| 10.89416193284752| 10.73733731988305| M573487274|               0.0|               0.0|      0|             0|       1.0|\n",
      "|0.6931471805599453| PAYMENT|   8.8690845120512| C154988899|12.118311896922664|12.078740455226185| M408069119|               0.0|               0.0|      0|             0|       1.0|\n",
      "|0.6931471805599453| PAYMENT| 8.969877706891506|C1912850431|12.078740455226185|12.033067099639137| M633326333|               0.0|               0.0|      0|             0|       1.0|\n",
      "|0.6931471805599453| PAYMENT| 8.300369626846845|C1265012928| 7.890582534656536|               0.0|M1176932104|               0.0|               0.0|      0|             0|       1.0|\n",
      "|0.6931471805599453|   DEBIT|  8.58275056834393| C712410124| 10.63875987814672|10.501863233177684| C195600860|10.643017239276974|10.605341469223585|      0|             0|       4.0|\n",
      "|0.6931471805599453|   DEBIT| 9.174292380414672|C1900366749| 8.404248432400102|               0.0| C997608398| 9.291551627401006|11.970243470858753|      0|             0|       4.0|\n",
      "|0.6931471805599453| PAYMENT| 8.039470244755039| C249177573|  9.94136120496421| 9.779738442699237|M2096539129|               0.0|               0.0|      0|             0|       1.0|\n",
      "|0.6931471805599453| PAYMENT| 7.848441994090672|C1648232591| 8.531293315795018| 7.828141612418577| M972865270|               0.0|               0.0|      0|             0|       1.0|\n",
      "|0.6931471805599453| PAYMENT| 9.361752448106369|C1716932897| 9.223059144383958|               0.0| M801569151|               0.0|               0.0|      0|             0|       1.0|\n",
      "|0.6931471805599453| PAYMENT| 8.318688592716143|C1026483832|13.128872149317155|13.120694425478524|M1635378213|               0.0|               0.0|      0|             0|       1.0|\n",
      "|0.6931471805599453|CASH_OUT|12.342066366634185| C905080434| 9.637306011530349|               0.0| C476402209| 8.533853632309345|10.849617435699875|      0|             0|       0.0|\n",
      "|0.6931471805599453| PAYMENT| 7.355526080384968| C761750706| 6.111467339502679|               0.0|M1731217984|               0.0|               0.0|      0|             0|       1.0|\n",
      "|0.6931471805599453| PAYMENT| 7.055192042255847|C1237762639| 9.959726098983317| 9.903444551611601|M1877062907|               0.0|               0.0|      0|             0|       1.0|\n",
      "|0.6931471805599453| PAYMENT| 6.511210268248532|C2033524545| 9.624038165010823| 9.578613002004333| M473053293|               0.0|               0.0|      0|             0|       1.0|\n",
      "|0.6931471805599453|TRANSFER|12.279840166879954|C1670993182| 6.559615237493242|               0.0|C1100439041|10.017976279020825|               0.0|      0|             0|       3.0|\n",
      "+------------------+--------+------------------+-----------+------------------+------------------+-----------+------------------+------------------+-------+--------------+----------+\n",
      "only showing top 20 rows\n",
      "\n"
     ]
    }
   ],
   "source": [
    "from pyspark.ml.feature import StringIndexer\n",
    "\n",
    "# Buat StringIndexer\n",
    "indexer = StringIndexer(inputCol=\"type\", outputCol=\"type_index\")\n",
    "\n",
    "# Fit dan transform\n",
    "df = indexer.fit(df).transform(df)\n",
    "\n",
    "# Lihat hasil\n",
    "df.show(20)"
   ]
  },
  {
   "cell_type": "code",
   "execution_count": 10,
   "metadata": {},
   "outputs": [],
   "source": [
    "# Pisahkan berdasarkan label\n",
    "df_fraud = df.filter(df[\"isFraud\"] == 1)\n",
    "df_nonfraud = df.filter(df[\"isFraud\"] == 0)\n",
    "\n",
    "# Lakukan split pada masing-masing kelas\n",
    "fraud_train, fraud_test = df_fraud.randomSplit([0.8, 0.2], seed=42)\n",
    "nonfraud_train, nonfraud_test = df_nonfraud.randomSplit([0.8, 0.2], seed=42)\n",
    "\n",
    "# Gabungkan kembali hasil split\n",
    "train_df = fraud_train.union(nonfraud_train)\n",
    "test_df = fraud_test.union(nonfraud_test)\n",
    "\n",
    "train_df = train_df.drop('nameOrig', 'type', 'nameDest', 'isFlaggedFraud')\n",
    "test_df = test_df.drop('nameOrig', 'type', 'nameDest', 'isFlaggedFraud')"
   ]
  },
  {
   "cell_type": "code",
   "execution_count": 11,
   "metadata": {},
   "outputs": [],
   "source": [
    "from pyspark.ml.feature import VectorAssembler\n",
    "from pyspark.ml.classification import GBTClassifier\n",
    "\n",
    "# Gabungkan semua kolom fitur\n",
    "feature_cols = [col for col in train_df.columns if col != \"isFraud\"]\n",
    "\n",
    "# Ubah ke format vektor\n",
    "assembler = VectorAssembler(inputCols=feature_cols, outputCol=\"features\")\n",
    "\n",
    "train_prepared = assembler.transform(train_df).select('features', 'isFraud')\n",
    "test_prepared = assembler.transform(test_df).select('features', 'isFraud')"
   ]
  },
  {
   "cell_type": "code",
   "execution_count": 12,
   "metadata": {},
   "outputs": [],
   "source": [
    "gbt = GBTClassifier(labelCol='isFraud', featuresCol='features', maxIter=50)\n",
    "model = gbt.fit(train_prepared)"
   ]
  },
  {
   "cell_type": "code",
   "execution_count": 13,
   "metadata": {},
   "outputs": [],
   "source": [
    "predictions = model.transform(test_prepared)"
   ]
  },
  {
   "cell_type": "code",
   "execution_count": 14,
   "metadata": {},
   "outputs": [
    {
     "name": "stdout",
     "output_type": "stream",
     "text": [
      "AUC: 0.9946809696640703\n",
      "Weighted Error Rate (α=0.75): 0.2036\n"
     ]
    }
   ],
   "source": [
    "from pyspark.ml.evaluation import BinaryClassificationEvaluator\n",
    "from sklearn.metrics import confusion_matrix\n",
    "import numpy as np\n",
    "\n",
    "ALPHA = 0.75\n",
    "\n",
    "def weighted_error_rate(y_true, y_pred, alpha=ALPHA):\n",
    "    tn, fp, fn, tp = confusion_matrix(y_true, y_pred).ravel()\n",
    "    fnr = fn / (fn + tp) if (fn + tp) > 0 else 0\n",
    "    fpr = fp / (fp + tn) if (fp + tn) > 0 else 0\n",
    "    return (alpha * fnr) + ((1 - alpha) * fpr)\n",
    "\n",
    "pdf = predictions.select('isFraud', 'prediction').toPandas()\n",
    "\n",
    "tn, fp, fn, tp = confusion_matrix(pdf['isFraud'], pdf['prediction']).ravel()\n",
    "\n",
    "evaluator = BinaryClassificationEvaluator(labelCol=\"isFraud\")\n",
    "auc = evaluator.evaluate(predictions)\n",
    "print(\"AUC:\", auc)\n",
    "w_err = weighted_error_rate(pdf['isFraud'], pdf['prediction'])\n",
    "print(f\"Weighted Error Rate (α={ALPHA}): {w_err:.4f}\")"
   ]
  },
  {
   "cell_type": "code",
   "execution_count": 15,
   "metadata": {},
   "outputs": [
    {
     "name": "stdout",
     "output_type": "stream",
     "text": [
      "True Negative (TN): 1270907 (99.87%)\n",
      "False Positive (FP): 34 (0.00%)\n",
      "False Negative (FN): 429 (0.03%)\n",
      "True Positive (TP): 1151 (0.09%)\n"
     ]
    }
   ],
   "source": [
    "total = tn + fp + fn + tp\n",
    "\n",
    "print(f\"True Negative (TN): {tn} ({tn / total * 100:.2f}%)\")\n",
    "print(f\"False Positive (FP): {fp} ({fp / total * 100:.2f}%)\")\n",
    "print(f\"False Negative (FN): {fn} ({fn / total * 100:.2f}%)\")\n",
    "print(f\"True Positive (TP): {tp} ({tp / total * 100:.2f}%)\")"
   ]
  },
  {
   "cell_type": "code",
   "execution_count": 16,
   "metadata": {},
   "outputs": [
    {
     "name": "stdout",
     "output_type": "stream",
     "text": [
      "Accuracy: 0.9996361553168868\n"
     ]
    }
   ],
   "source": [
    "accuracy = (tp + tn)/total\n",
    "print(\"Accuracy:\", accuracy)"
   ]
  },
  {
   "cell_type": "code",
   "execution_count": 17,
   "metadata": {},
   "outputs": [],
   "source": [
    "# Pisahkan berdasarkan label\n",
    "df_fraud = df.filter(df[\"isFraud\"] == 1)\n",
    "df_nonfraud = df.filter(df[\"isFraud\"] == 0)\n",
    "\n",
    "# Lakukan split pada masing-masing kelas\n",
    "fraud_train, fraud_test = df_fraud.randomSplit([0.8, 0.2], seed=42)\n",
    "nonfraud_train, nonfraud_test = df_nonfraud.randomSplit([0.8, 0.2], seed=42)\n",
    "\n",
    "fraud_train_oversampled = fraud_train.sample(withReplacement=True, fraction=5.0, seed=42)\n",
    "\n",
    "# === Gabungkan data training\n",
    "train_df = fraud_train_oversampled.union(nonfraud_train)\n",
    "\n",
    "# === Gabungkan data testing\n",
    "test_df = fraud_test.union(nonfraud_test)\n",
    "\n",
    "# === Hapus kolom yang tidak digunakan\n",
    "cols_to_drop = ['nameOrig', 'type', 'nameDest', 'isFlaggedFraud']\n",
    "train_df = train_df.drop(*cols_to_drop)\n",
    "test_df = test_df.drop(*cols_to_drop)\n"
   ]
  },
  {
   "cell_type": "code",
   "execution_count": 18,
   "metadata": {},
   "outputs": [],
   "source": [
    "features = [col for col in train_df.columns if col != 'isFraud']\n",
    "assembler = VectorAssembler(inputCols=features, outputCol='features')"
   ]
  },
  {
   "cell_type": "markdown",
   "metadata": {},
   "source": [
    "GBTClassifier"
   ]
  },
  {
   "cell_type": "code",
   "execution_count": 19,
   "metadata": {},
   "outputs": [],
   "source": [
    "from pyspark.ml import Pipeline\n",
    "\n",
    "gbt = GBTClassifier(labelCol='isFraud', featuresCol='features', maxIter=50, maxDepth=5)\n",
    "\n",
    "pipeline = Pipeline(stages=[assembler, gbt])\n",
    "\n",
    "model = pipeline.fit(train_df)"
   ]
  },
  {
   "cell_type": "code",
   "execution_count": 20,
   "metadata": {},
   "outputs": [],
   "source": [
    "from pyspark.sql.functions import udf\n",
    "from pyspark.sql.types import DoubleType\n",
    "\n",
    "predictions = model.transform(test_df)\n",
    "\n",
    "# === Adjust threshold: lebih sensitif (misalnya > 0.3)\n",
    "adjust_threshold = udf(lambda prob: float(prob[1] > 0.5), DoubleType())\n",
    "predictions = predictions.withColumn(\"adjusted_prediction\", adjust_threshold(predictions[\"probability\"]))"
   ]
  },
  {
   "cell_type": "code",
   "execution_count": 21,
   "metadata": {},
   "outputs": [
    {
     "name": "stdout",
     "output_type": "stream",
     "text": [
      "AUC: 0.9965996210582097\n",
      "Weighted Error Rate (α=0.75): 0.1871\n"
     ]
    }
   ],
   "source": [
    "ALPHA = 0.75\n",
    "\n",
    "def weighted_error_rate(y_true, y_pred, alpha=ALPHA):\n",
    "    tn, fp, fn, tp = confusion_matrix(y_true, y_pred).ravel()\n",
    "    fnr = fn / (fn + tp) if (fn + tp) > 0 else 0\n",
    "    fpr = fp / (fp + tn) if (fp + tn) > 0 else 0\n",
    "    return (alpha * fnr) + ((1 - alpha) * fpr)\n",
    "\n",
    "pdf = predictions.select('isFraud', 'prediction').toPandas()\n",
    "\n",
    "tn, fp, fn, tp = confusion_matrix(pdf['isFraud'], pdf['prediction']).ravel()\n",
    "\n",
    "evaluator = BinaryClassificationEvaluator(labelCol=\"isFraud\")\n",
    "auc = evaluator.evaluate(predictions)\n",
    "print(\"AUC:\", auc)\n",
    "w_err = weighted_error_rate(pdf['isFraud'], pdf['prediction'])\n",
    "print(f\"Weighted Error Rate (α={ALPHA}): {w_err:.4f}\")"
   ]
  },
  {
   "cell_type": "code",
   "execution_count": 22,
   "metadata": {},
   "outputs": [
    {
     "name": "stdout",
     "output_type": "stream",
     "text": [
      "True Negative (TN): 1270752 (99.86%)\n",
      "False Positive (FP): 189 (0.01%)\n",
      "False Negative (FN): 394 (0.03%)\n",
      "True Positive (TP): 1186 (0.09%)\n"
     ]
    }
   ],
   "source": [
    "total = tn + fp + fn + tp\n",
    "\n",
    "print(f\"True Negative (TN): {tn} ({tn / total * 100:.2f}%)\")\n",
    "print(f\"False Positive (FP): {fp} ({fp / total * 100:.2f}%)\")\n",
    "print(f\"False Negative (FN): {fn} ({fn / total * 100:.2f}%)\")\n",
    "print(f\"True Positive (TP): {tp} ({tp / total * 100:.2f}%)\")"
   ]
  },
  {
   "cell_type": "code",
   "execution_count": 23,
   "metadata": {},
   "outputs": [
    {
     "name": "stdout",
     "output_type": "stream",
     "text": [
      "Accuracy: 0.9995418543191036\n"
     ]
    }
   ],
   "source": [
    "accuracy = (tp + tn)/total\n",
    "print(\"Accuracy:\", accuracy)"
   ]
  },
  {
   "cell_type": "markdown",
   "metadata": {},
   "source": [
    "RandomForest"
   ]
  },
  {
   "cell_type": "code",
   "execution_count": 27,
   "metadata": {},
   "outputs": [],
   "source": [
    "from pyspark.ml.classification import RandomForestClassifier\n",
    "\n",
    "rf = RandomForestClassifier(labelCol=\"isFraud\", featuresCol=\"features\", numTrees=100)\n",
    "pipeline = Pipeline(stages=[assembler, rf])\n",
    "rf_model = pipeline.fit(train_df)"
   ]
  },
  {
   "cell_type": "code",
   "execution_count": 28,
   "metadata": {},
   "outputs": [],
   "source": [
    "predictions = rf_model.transform(test_df)"
   ]
  },
  {
   "cell_type": "code",
   "execution_count": 29,
   "metadata": {},
   "outputs": [
    {
     "name": "stdout",
     "output_type": "stream",
     "text": [
      "AUC: 0.9879672249523002\n",
      "Weighted Error Rate (α=0.75): 0.2711\n"
     ]
    }
   ],
   "source": [
    "ALPHA = 0.75\n",
    "\n",
    "def weighted_error_rate(y_true, y_pred, alpha=ALPHA):\n",
    "    tn, fp, fn, tp = confusion_matrix(y_true, y_pred).ravel()\n",
    "    fnr = fn / (fn + tp) if (fn + tp) > 0 else 0\n",
    "    fpr = fp / (fp + tn) if (fp + tn) > 0 else 0\n",
    "    return (alpha * fnr) + ((1 - alpha) * fpr)\n",
    "\n",
    "pdf = predictions.select('isFraud', 'prediction').toPandas()\n",
    "\n",
    "tn, fp, fn, tp = confusion_matrix(pdf['isFraud'], pdf['prediction']).ravel()\n",
    "\n",
    "evaluator = BinaryClassificationEvaluator(labelCol=\"isFraud\")\n",
    "auc = evaluator.evaluate(predictions)\n",
    "print(\"AUC:\", auc)\n",
    "w_err = weighted_error_rate(pdf['isFraud'], pdf['prediction'])\n",
    "print(f\"Weighted Error Rate (α={ALPHA}): {w_err:.4f}\")"
   ]
  },
  {
   "cell_type": "code",
   "execution_count": 30,
   "metadata": {},
   "outputs": [
    {
     "name": "stdout",
     "output_type": "stream",
     "text": [
      "True Negative (TN): 1270902 (99.87%)\n",
      "False Positive (FP): 39 (0.00%)\n",
      "False Negative (FN): 571 (0.04%)\n",
      "True Positive (TP): 1009 (0.08%)\n"
     ]
    }
   ],
   "source": [
    "total = tn + fp + fn + tp\n",
    "\n",
    "print(f\"True Negative (TN): {tn} ({tn / total * 100:.2f}%)\")\n",
    "print(f\"False Positive (FP): {fp} ({fp / total * 100:.2f}%)\")\n",
    "print(f\"False Negative (FN): {fn} ({fn / total * 100:.2f}%)\")\n",
    "print(f\"True Positive (TP): {tp} ({tp / total * 100:.2f}%)\")"
   ]
  },
  {
   "cell_type": "code",
   "execution_count": 31,
   "metadata": {},
   "outputs": [
    {
     "name": "stdout",
     "output_type": "stream",
     "text": [
      "Accuracy: 0.9995206365946023\n"
     ]
    }
   ],
   "source": [
    "accuracy = (tp + tn)/total\n",
    "print(\"Accuracy:\", accuracy)"
   ]
  },
  {
   "cell_type": "code",
   "execution_count": 33,
   "metadata": {},
   "outputs": [],
   "source": [
    "from pyspark.ml.classification import LogisticRegression\n",
    "\n",
    "lr = LogisticRegression(labelCol=\"isFraud\", featuresCol=\"features\")\n",
    "pipeline = Pipeline(stages=[assembler, lr])\n",
    "lr_model = pipeline.fit(train_df)"
   ]
  },
  {
   "cell_type": "code",
   "execution_count": 34,
   "metadata": {},
   "outputs": [],
   "source": [
    "predictions = lr_model.transform(test_df)"
   ]
  },
  {
   "cell_type": "code",
   "execution_count": 35,
   "metadata": {},
   "outputs": [
    {
     "name": "stdout",
     "output_type": "stream",
     "text": [
      "AUC: 0.984251436085845\n",
      "Weighted Error Rate (α=0.75): 0.2948\n"
     ]
    }
   ],
   "source": [
    "ALPHA = 0.75\n",
    "\n",
    "def weighted_error_rate(y_true, y_pred, alpha=ALPHA):\n",
    "    tn, fp, fn, tp = confusion_matrix(y_true, y_pred).ravel()\n",
    "    fnr = fn / (fn + tp) if (fn + tp) > 0 else 0\n",
    "    fpr = fp / (fp + tn) if (fp + tn) > 0 else 0\n",
    "    return (alpha * fnr) + ((1 - alpha) * fpr)\n",
    "\n",
    "pdf = predictions.select('isFraud', 'prediction').toPandas()\n",
    "\n",
    "tn, fp, fn, tp = confusion_matrix(pdf['isFraud'], pdf['prediction']).ravel()\n",
    "\n",
    "evaluator = BinaryClassificationEvaluator(labelCol=\"isFraud\")\n",
    "auc = evaluator.evaluate(predictions)\n",
    "print(\"AUC:\", auc)\n",
    "w_err = weighted_error_rate(pdf['isFraud'], pdf['prediction'])\n",
    "print(f\"Weighted Error Rate (α={ALPHA}): {w_err:.4f}\")"
   ]
  },
  {
   "cell_type": "code",
   "execution_count": 36,
   "metadata": {},
   "outputs": [
    {
     "name": "stdout",
     "output_type": "stream",
     "text": [
      "True Negative (TN): 1270808 (99.87%)\n",
      "False Positive (FP): 133 (0.01%)\n",
      "False Negative (FN): 621 (0.05%)\n",
      "True Positive (TP): 959 (0.08%)\n"
     ]
    }
   ],
   "source": [
    "total = tn + fp + fn + tp\n",
    "\n",
    "print(f\"True Negative (TN): {tn} ({tn / total * 100:.2f}%)\")\n",
    "print(f\"False Positive (FP): {fp} ({fp / total * 100:.2f}%)\")\n",
    "print(f\"False Negative (FN): {fn} ({fn / total * 100:.2f}%)\")\n",
    "print(f\"True Positive (TP): {tp} ({tp / total * 100:.2f}%)\")"
   ]
  },
  {
   "cell_type": "code",
   "execution_count": 37,
   "metadata": {},
   "outputs": [
    {
     "name": "stdout",
     "output_type": "stream",
     "text": [
      "Accuracy: 0.9994074753972626\n"
     ]
    }
   ],
   "source": [
    "accuracy = (tp + tn)/total\n",
    "print(\"Accuracy:\", accuracy)"
   ]
  },
  {
   "cell_type": "code",
   "execution_count": 38,
   "metadata": {},
   "outputs": [
    {
     "data": {
      "text/plain": [
       "[('spark.driver.extraJavaOptions',\n",
       "  '-Djava.net.preferIPv6Addresses=false -XX:+IgnoreUnrecognizedVMOptions --add-opens=java.base/java.lang=ALL-UNNAMED --add-opens=java.base/java.lang.invoke=ALL-UNNAMED --add-opens=java.base/java.lang.reflect=ALL-UNNAMED --add-opens=java.base/java.io=ALL-UNNAMED --add-opens=java.base/java.net=ALL-UNNAMED --add-opens=java.base/java.nio=ALL-UNNAMED --add-opens=java.base/java.util=ALL-UNNAMED --add-opens=java.base/java.util.concurrent=ALL-UNNAMED --add-opens=java.base/java.util.concurrent.atomic=ALL-UNNAMED --add-opens=java.base/jdk.internal.ref=ALL-UNNAMED --add-opens=java.base/sun.nio.ch=ALL-UNNAMED --add-opens=java.base/sun.nio.cs=ALL-UNNAMED --add-opens=java.base/sun.security.action=ALL-UNNAMED --add-opens=java.base/sun.util.calendar=ALL-UNNAMED --add-opens=java.security.jgss/sun.security.krb5=ALL-UNNAMED -Djdk.reflect.useDirectMethodHandle=false'),\n",
       " ('spark.driver.memory', '4g'),\n",
       " ('spark.app.name', 'fraud detection'),\n",
       " ('spark.executor.id', 'driver'),\n",
       " ('spark.driver.port', '57805'),\n",
       " ('spark.sql.warehouse.dir',\n",
       "  'file:/C:/Users/Abhinaya/hello%20world/praktikum-ai-modul-2-2025/fraud_detection_classification/spark-warehouse'),\n",
       " ('spark.app.submitTime', '1746759375032'),\n",
       " ('spark.app.id', 'local-1746759377939'),\n",
       " ('spark.app.startTime', '1746759375315'),\n",
       " ('spark.rdd.compress', 'True'),\n",
       " ('spark.executor.extraJavaOptions',\n",
       "  '-Djava.net.preferIPv6Addresses=false -XX:+IgnoreUnrecognizedVMOptions --add-opens=java.base/java.lang=ALL-UNNAMED --add-opens=java.base/java.lang.invoke=ALL-UNNAMED --add-opens=java.base/java.lang.reflect=ALL-UNNAMED --add-opens=java.base/java.io=ALL-UNNAMED --add-opens=java.base/java.net=ALL-UNNAMED --add-opens=java.base/java.nio=ALL-UNNAMED --add-opens=java.base/java.util=ALL-UNNAMED --add-opens=java.base/java.util.concurrent=ALL-UNNAMED --add-opens=java.base/java.util.concurrent.atomic=ALL-UNNAMED --add-opens=java.base/jdk.internal.ref=ALL-UNNAMED --add-opens=java.base/sun.nio.ch=ALL-UNNAMED --add-opens=java.base/sun.nio.cs=ALL-UNNAMED --add-opens=java.base/sun.security.action=ALL-UNNAMED --add-opens=java.base/sun.util.calendar=ALL-UNNAMED --add-opens=java.security.jgss/sun.security.krb5=ALL-UNNAMED -Djdk.reflect.useDirectMethodHandle=false'),\n",
       " ('spark.serializer.objectStreamReset', '100'),\n",
       " ('spark.master', 'local[*]'),\n",
       " ('spark.submit.pyFiles', ''),\n",
       " ('spark.submit.deployMode', 'client'),\n",
       " ('spark.ui.showConsoleProgress', 'true'),\n",
       " ('spark.driver.host', 'MSI')]"
      ]
     },
     "execution_count": 38,
     "metadata": {},
     "output_type": "execute_result"
    }
   ],
   "source": [
    "spark.sparkContext.getConf().getAll()"
   ]
  },
  {
   "cell_type": "code",
   "execution_count": 39,
   "metadata": {},
   "outputs": [],
   "source": [
    "spark.stop()"
   ]
  }
 ],
 "metadata": {
  "kernelspec": {
   "display_name": "Python 3",
   "language": "python",
   "name": "python3"
  },
  "language_info": {
   "codemirror_mode": {
    "name": "ipython",
    "version": 3
   },
   "file_extension": ".py",
   "mimetype": "text/x-python",
   "name": "python",
   "nbconvert_exporter": "python",
   "pygments_lexer": "ipython3",
   "version": "3.12.10"
  }
 },
 "nbformat": 4,
 "nbformat_minor": 2
}
